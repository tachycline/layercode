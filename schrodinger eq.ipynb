{
 "cells": [
  {
   "cell_type": "code",
   "execution_count": 1,
   "metadata": {
    "collapsed": false
   },
   "outputs": [],
   "source": [
    "import numpy as np\n",
    "import sympy as sp\n",
    "from scipy.integrate import odeint\n",
    "from sympy.physics.quantum.constants import hbar"
   ]
  },
  {
   "cell_type": "code",
   "execution_count": 2,
   "metadata": {
    "collapsed": false
   },
   "outputs": [],
   "source": [
    "import matplotlib as mpl\n",
    "import matplotlib.pyplot as plt\n",
    "\n",
    "%matplotlib inline\n",
    "\n",
    "from matplotlib import animation\n",
    "mpl.rcParams['animation.ffmpeg_path'] = 'C:\\\\ffmpeg-static\\\\ffmpeg-20160919-11777eb-win64-static\\\\bin\\\\ffmpeg.exe'"
   ]
  },
  {
   "cell_type": "code",
   "execution_count": 3,
   "metadata": {
    "collapsed": false
   },
   "outputs": [],
   "source": [
    "me = 1\n",
    "\n",
    "\n",
    "def potential(psihat):\n",
    "    psi = np.fft.irfft2(psihat)\n",
    "    return np.fft.rfft2((x**2+y**2)*psi)\n",
    "def rhs(psihat, t):\n",
    "     return -(0.0+1.0j)*ksq*(psihat) - (0.0+1.0j)*potential(psihat)\n",
    "\n",
    "def rkint(f0, t0, h):\n",
    "    k1 = rhs(f0, t0)\n",
    "    f1 = f0 + k1 * h / 2\n",
    "    k2 = rhs(f1, t0+h/2)\n",
    "    f2 = f0 + k2 * h / 2\n",
    "    k3 = rhs(f2, t0+h/2)\n",
    "    f3 = f0 + k3 * h\n",
    "    k4 = rhs(f3, t0+h)\n",
    "    m = k4/6 + k3/3 + k2/3 + k1/6\n",
    "    m\n",
    "    return f0 + m*h"
   ]
  },
  {
   "cell_type": "code",
   "execution_count": 4,
   "metadata": {
    "collapsed": false,
    "scrolled": false
   },
   "outputs": [
    {
     "data": {
      "text/plain": [
       "601"
      ]
     },
     "execution_count": 4,
     "metadata": {},
     "output_type": "execute_result"
    }
   ],
   "source": [
    "step = 601\n",
    "tmax = 2\n",
    "tt = np.linspace(0.0, tmax, step)\n",
    "tt.size"
   ]
  },
  {
   "cell_type": "code",
   "execution_count": 20,
   "metadata": {
    "collapsed": false
   },
   "outputs": [],
   "source": [
    "x = np.linspace(-np.pi, np.pi, 256)\n",
    "y = np.linspace(-np.pi, np.pi, 256)\n",
    "xx, yy = np.meshgrid(x, y)\n",
    "psi = np.exp(xx**2/36) * np.exp(yy**2/36)\n",
    "\n",
    "kx = np.fft.rfftfreq(256)\n",
    "ky = np.fft.fftfreq(256)\n",
    "kkx, kky = np.meshgrid(kx, ky)\n",
    "ksq = kkx**2 + kky**2\n",
    "psihat = np.fft.rfft(np.ones(psi.shape))\n",
    "\n",
    "resulthat = [psihat]\n",
    "h = tmax / (step - 1)\n",
    "for tval in tt:\n",
    "    resulthat.append(rkint(resulthat[-1], tval, h))\n",
    "resulthat = np.array(resulthat)"
   ]
  },
  {
   "cell_type": "code",
   "execution_count": 21,
   "metadata": {
    "collapsed": false
   },
   "outputs": [
    {
     "data": {
      "text/plain": [
       "(602, 256, 256)"
      ]
     },
     "execution_count": 21,
     "metadata": {},
     "output_type": "execute_result"
    }
   ],
   "source": [
    "result = np.fft.irfft(resulthat)\n",
    "result.shape"
   ]
  },
  {
   "cell_type": "code",
   "execution_count": 22,
   "metadata": {
    "collapsed": false
   },
   "outputs": [
    {
     "data": {
      "text/plain": [
       "<matplotlib.text.Text at 0xcb84176470>"
      ]
     },
     "execution_count": 22,
     "metadata": {},
     "output_type": "execute_result"
    },
    {
     "data": {
      "image/png": "[encoded data removed]",
      "text/plain": [
       "<matplotlib.figure.Figure at 0xcb84103ef0>"
      ]
     },
     "metadata": {},
     "output_type": "display_data"
    }
   ],
   "source": [
    "plt.contour(xx, yy, result[100])\n",
    "plt.ylabel('y')\n",
    "plt.xlabel('x')\n",
    "\n"
   ]
  },
  {
   "cell_type": "code",
   "execution_count": 23,
   "metadata": {
    "collapsed": false,
    "scrolled": true
   },
   "outputs": [
    {
     "data": {
      "image/png": "[encoded data removed]",
      "text/plain": [
       "<matplotlib.figure.Figure at 0xcb84198780>"
      ]
     },
     "metadata": {},
     "output_type": "display_data"
    }
   ],
   "source": [
    "fig = plt.figure(figsize=(10,10))\n",
    "ax = plt.axes()  \n",
    "plt.xlabel('x')\n",
    "plt.ylabel('y')\n",
    "\n",
    "totalmax = np.max([np.max(np.abs(result)) for frame in result])\n",
    "levels = np.linspace(-totalmax, totalmax, 10)\n",
    "\n",
    "def animatex(i):\n",
    "    ax.clear()\n",
    "    return plt.contour(xx, yy, result[i], levels)\n",
    "def animatev(i):\n",
    "    ax.clear()\n",
    "    return plt.contour(xx, yy, result[i])\n",
    "\n",
    "anim = animation.FuncAnimation(fig, animatex, frames=len(tt), blit=False)\n",
    "mywriter = animation.FFMpegWriter()\n",
    "\n",
    "anim.save(\"gaussianSHO.mp4\", writer=mywriter)\n",
    "    "
   ]
  },
  {
   "cell_type": "code",
   "execution_count": null,
   "metadata": {
    "collapsed": true
   },
   "outputs": [],
   "source": []
  }
 ],
 "metadata": {
  "anaconda-cloud": {},
  "kernelspec": {
   "display_name": "Python [Root]",
   "language": "python",
   "name": "Python [Root]"
  },
  "language_info": {
   "codemirror_mode": {
    "name": "ipython",
    "version": 3
   },
   "file_extension": ".py",
   "mimetype": "text/x-python",
   "name": "python",
   "nbconvert_exporter": "python",
   "pygments_lexer": "ipython3",
   "version": "3.5.2"
  }
 },
 "nbformat": 4,
 "nbformat_minor": 0
}
