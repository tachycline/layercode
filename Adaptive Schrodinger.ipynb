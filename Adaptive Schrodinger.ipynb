{
 "cells": [
  {
   "cell_type": "code",
   "execution_count": 1,
   "metadata": {
    "collapsed": true
   },
   "outputs": [],
   "source": [
    "import numpy as np\n",
    "import sympy as sp\n",
    "from scipy.integrate import odeint\n",
    "from sympy.physics.quantum.constants import hbar\n",
    "\n",
    "import matplotlib as mpl\n",
    "import matplotlib.pyplot as plt\n",
    "\n",
    "%matplotlib inline\n",
    "\n",
    "from matplotlib import animation"
   ]
  },
  {
   "cell_type": "code",
   "execution_count": 2,
   "metadata": {
    "collapsed": true
   },
   "outputs": [],
   "source": [
    "#actual integrator, with adaptive stepsizes\n",
    "def rkint(f0, t0, h):\n",
    "    k1 = h*rhs(f0, t0)\n",
    "    k2 = h*rhs(f0 + k1/5, t0 + h/5)\n",
    "    k3 = h*rhs(f0 + k1*3/40 + k2*9/40, t0 + h*3/10)\n",
    "    k4 = h*rhs(f0 + k1*3/10 - k2*9/10 + k3*6/5, t0 + h*3/5)\n",
    "    k5 = h*rhs(f0 - k1*11/54 + k2*5/2 - k3*70/27 + k4*35/27, t0 + h)\n",
    "    k6 = h*rhs(f0 + k1*1631/55296 + k2*175/512 + k3*575/13824 + k4*44275/110592 + k5*253/4096, t0 + h*7/8)\n",
    "    \n",
    "    f = f0 + k1*37/378 + k3*250/621 + k4*125/594 + k6*512/1771\n",
    "    fstar = f0 + k1*2825.0/27648.0 + k3*18575.0/48384.0 + k4*13525.0/55296.0 + k5*277.0/14336.0 + k6/4.0\n",
    "    \n",
    "    maxtol = 10**-6\n",
    "    \n",
    "    goodenough = np.absolute(maxtol/(np.max(fstar-f)))\n",
    "    h0 = h*goodenough**0.2\n",
    "    if goodenough < 1:\n",
    "        \n",
    "        f = tryagain(f0, t0, h, h0)\n",
    "    \n",
    "    return f\n",
    "    \n",
    "def tryagain(f0, t0, h, h0):\n",
    "    step2 = round(h/h0 + 0.5)\n",
    "    t = np.linspace(t0, h, step2)\n",
    "    new = [f0]\n",
    "    for tval in t:\n",
    "        new.append(rkint(new[-1], tval, h/step2))\n",
    "    return new[-1]\n",
    "        "
   ]
  },
  {
   "cell_type": "code",
   "execution_count": 15,
   "metadata": {
    "collapsed": true
   },
   "outputs": [],
   "source": [
    "#define the right hand side of your function\n",
    "def rhs(f, t):\n",
    "    return -(0.0+1.0j)*ksq*(psihat) + (0.0+1.0j)*potential(psihat)\n",
    "\n",
    "#do potential term in real space, return fourier space\n",
    "def potential(psihat):\n",
    "    psi = np.fft.irfft2(psihat)\n",
    "    return np.fft.rfft2((xx**2+yy**2)*psi)"
   ]
  },
  {
   "cell_type": "code",
   "execution_count": 16,
   "metadata": {
    "collapsed": false
   },
   "outputs": [],
   "source": [
    "#give it some initial conditions\n",
    "step = 500\n",
    "tmax = 200\n",
    "tt = np.linspace(0.0, tmax, step)\n",
    "\n",
    "#real space set up\n",
    "x = np.linspace(-np.pi, np.pi, 256)\n",
    "y = np.linspace(-np.pi, np.pi, 256)\n",
    "xx, yy = np.meshgrid(x, y)\n",
    "psi = np.exp(xx**2/(np.pi**2)) * np.exp(yy**2/(np.pi**2))\n",
    "\n",
    "#fourier space set up\n",
    "kx = np.fft.rfftfreq(256)\n",
    "ky = np.fft.fftfreq(256)\n",
    "kkx, kky = np.meshgrid(kx, ky)\n",
    "ksq = kkx**2 + kky**2\n",
    "psihat = np.fft.rfft(psi)\n",
    "\n",
    "init = psihat"
   ]
  },
  {
   "cell_type": "code",
   "execution_count": 17,
   "metadata": {
    "collapsed": false
   },
   "outputs": [],
   "source": [
    "#this will do all the work\n",
    "tt = np.linspace(0, tmax, step)\n",
    "h = tmax/(step)\n",
    "resulthat = [init]\n",
    "\n",
    "for tval in tt:\n",
    "    resulthat.append(rkint(resulthat[-1], tval, h))\n",
    "result = np.fft.irfft(np.array(resulthat))"
   ]
  },
  {
   "cell_type": "code",
   "execution_count": 18,
   "metadata": {
    "collapsed": false
   },
   "outputs": [
    {
     "data": {
      "text/plain": [
       "array([[ 7.3890561 ,  7.27450115,  7.16260334, ...,  7.16260334,\n",
       "         7.27450115,  7.3890561 ],\n",
       "       [ 7.27450115,  7.16172218,  7.05155916, ...,  7.05155916,\n",
       "         7.16172218,  7.27450115],\n",
       "       [ 7.16260334,  7.05155916,  6.94309069, ...,  6.94309069,\n",
       "         7.05155916,  7.16260334],\n",
       "       ..., \n",
       "       [ 7.16260334,  7.05155916,  6.94309069, ...,  6.94309069,\n",
       "         7.05155916,  7.16260334],\n",
       "       [ 7.27450115,  7.16172218,  7.05155916, ...,  7.05155916,\n",
       "         7.16172218,  7.27450115],\n",
       "       [ 7.3890561 ,  7.27450115,  7.16260334, ...,  7.16260334,\n",
       "         7.27450115,  7.3890561 ]])"
      ]
     },
     "execution_count": 18,
     "metadata": {},
     "output_type": "execute_result"
    }
   ],
   "source": [
    "result[0]"
   ]
  },
  {
   "cell_type": "code",
   "execution_count": 19,
   "metadata": {
    "collapsed": false
   },
   "outputs": [
    {
     "data": {
      "image/png": "[encoded data removed]",
      "text/plain": [
       "<matplotlib.figure.Figure at 0x7ff14ccf2550>"
      ]
     },
     "metadata": {},
     "output_type": "display_data"
    }
   ],
   "source": [
    "#create our plot\n",
    "fig = plt.figure(figsize=(10,10))\n",
    "ax = plt.axes()  \n",
    "plt.xlabel('x')\n",
    "plt.ylabel('y')\n",
    "\n",
    "totalmax = np.max([np.max(np.abs(result)) for frame in result])\n",
    "levels = np.linspace(-totalmax, totalmax, 10)\n",
    "\n",
    "\n",
    "\n",
    "#animation function\n",
    "def animatepsi(i):\n",
    "    ax.clear()\n",
    "    return plt.contour(xx, yy, result[i], levels)\n",
    "\n",
    "\n",
    "anim = animation.FuncAnimation(fig, animatepsi, frames=len(tt), blit=False)\n",
    "mywriter = animation.FFMpegWriter()\n",
    "\n",
    "anim.save(\"gaussianshocluster.mp4\", writer=mywriter)"
   ]
  },
  {
   "cell_type": "code",
   "execution_count": null,
   "metadata": {
    "collapsed": true
   },
   "outputs": [],
   "source": []
  }
 ],
 "metadata": {
  "kernelspec": {
   "display_name": "Python 3",
   "language": "python",
   "name": "python3"
  },
  "language_info": {
   "codemirror_mode": {
    "name": "ipython",
    "version": 3
   },
   "file_extension": ".py",
   "mimetype": "text/x-python",
   "name": "python",
   "nbconvert_exporter": "python",
   "pygments_lexer": "ipython3",
   "version": "3.5.2"
  }
 },
 "nbformat": 4,
 "nbformat_minor": 0
}
