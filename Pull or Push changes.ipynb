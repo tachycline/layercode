{
 "cells": [
  {
   "cell_type": "markdown",
   "metadata": {},
   "source": [
    "open new terminal like you would a new notebook\n",
    "\n",
    "cd layer code\n",
    "git pull\n",
    "\n",
    "git status\n",
    "(tells whats changed)\n",
    "\n",
    "git add \"file name\"\n",
    "(adds file name, use tab for auto complete)\n",
    "\n",
    "git commit\n",
    "(commit changes)\n",
    "\n",
    "it will prompt you to describe changes, may make you sign in\n"
   ]
  },
  {
   "cell_type": "code",
   "execution_count": null,
   "metadata": {
    "collapsed": true
   },
   "outputs": [],
   "source": []
  }
 ],
 "metadata": {
  "kernelspec": {
   "display_name": "Python 3",
   "language": "python",
   "name": "python3"
  },
  "language_info": {
   "codemirror_mode": {
    "name": "ipython",
    "version": 3
   },
   "file_extension": ".py",
   "mimetype": "text/x-python",
   "name": "python",
   "nbconvert_exporter": "python",
   "pygments_lexer": "ipython3",
   "version": "3.5.2"
  }
 },
 "nbformat": 4,
 "nbformat_minor": 0
}
