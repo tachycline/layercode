{
 "cells": [
  {
   "cell_type": "code",
   "execution_count": 1,
   "metadata": {
    "collapsed": true
   },
   "outputs": [],
   "source": [
    "import numpy as np\n",
    "from scipy.integrate import odeint\n",
    "\n",
    "import matplotlib as mpl\n",
    "import matplotlib.pyplot as plt\n",
    "from matplotlib import animation\n",
    "\n",
    "%matplotlib inline"
   ]
  },
  {
   "cell_type": "code",
   "execution_count": 3,
   "metadata": {
    "collapsed": false
   },
   "outputs": [],
   "source": [
    "class flow(object):\n",
    "    def __init__(self, nx=256, ny=256, lx=1.0e6, ly=2.0e6, beta=6.0e-10, kappa=10.0, w=4.0e-6):\n",
    "        x = np.linspace(-np.pi, np.pi, nx, endpoint=False)\n",
    "        y = np.linspace(-np.pi, np.pi, ny, endpoint=False)\n",
    "        self.xx, self.yy = np.meshgrid(x,y)\n",
    "        \n",
    "        kx = np.fft.rfftfreq(nx, lx/nx)\n",
    "        ky = np.fft.fftfreq(ny, ly/ny)\n",
    "        self.kkx, self.kky = np.meshgrid(kx,ky)\n",
    "        \n",
    "        self.ksq = self.kkx**2 + self.kky**2\n",
    "        self.ksq[0,0] += 1.0e-15\n",
    "        self.kmax = np.min(np.max(kx), np.max(ky))\n",
    "        \n",
    "        self.nx = nx\n",
    "        self.ny = ny\n",
    "        self.lx = lx\n",
    "        self.ly = ly\n",
    "        self.beta = beta\n",
    "        self.kappa = kappa\n",
    "        self.w = w\n",
    "        \n",
    "        self.psihat = np.zeros((nx,int(ny/2+1)), dtype=complex)\n",
    "        fzero = 1.0e-4\n",
    "        thick = 1.0e3\n",
    "        famp = self.w * fzero/thick\n",
    "        phases = np.random.uniform(-np.pi, np.pi, size=self.psihat.shape)\n",
    "        \n",
    "        forcing = np.zeros_like(self.psihat, dtype=complex)\n",
    "        forcing[np.abs(self.ksq - self.kmax**2/81) < 3e-11] = famp\n",
    "        self.forcefield = forcing * (np.cos(phases) + np.sin(phases)*(0.0+1.0j))\n",
    "        self.psihat += self.forcefield\n",
    "\n",
    "        self.psi = np.fft.irfft2(self.psihat)\n",
    "        \n",
    "        self.qhat = -self.psihat*self.ksq\n",
    "        self.q = np.fft.irfft2(self.qhat)\n",
    "        \n",
    "    def plot_psi(self):\n",
    "        return plt.contour(self.xx, self.yy, self.psi)\n",
    "        \n",
    "    def plot_q(self):\n",
    "        return plt.contour(self.xx, self.yy, self.q)\n",
    "        \n",
    "        \n",
    "    def get_psihat_from_qhat(self, qhat):\n",
    "        \"\"\"What it says on the tin.        \n",
    "        \"\"\"\n",
    "        \n",
    "        psihat = -qhat/self.ksq\n",
    "        return psihat\n",
    "        \n",
    "    def waveterm(self, psihat):\n",
    "        \"\"\"Compute the beta wave term.\n",
    "        \n",
    "        Assume that we start and end in Fourier space.\n",
    "        \"\"\"\n",
    "        return self.beta*psihat*self.kkx*(0.0+1.0j)\n",
    "    \n",
    "    def dissipation(self, qhat):\n",
    "        \"\"\"Dissipation term, all in Fourier space.\"\"\"\n",
    "        \n",
    "        return -self.kappa*qhat*self.ksq\n",
    "    \n",
    "    def forcing(self, t):\n",
    "        \"\"\"Forcing is in the form of random phases in a k-space anulus.\n",
    "        \n",
    "        The magnitude (and variables) come from the ocean problem, and probably aren't appropriate for\n",
    "        atmospheric simulation.\n",
    "        \"\"\"\n",
    "#        fzero = 1.0e-4\n",
    "#        thick = 1.0e3\n",
    "#        famp = self.w * fzero/thick\n",
    "\n",
    "#        phases = np.random.uniform(-np.pi, np.pi, size=self.qhat.shape)        \n",
    "#        return self.forcefield * (np.cos(phases) + np.sin(phases)*(0.0+1.0j))\n",
    "        return self.forcefield\n",
    "\n",
    "    def nlterm(self, qhat, psihat):\n",
    "        \"\"\"Compute the jacobian determinant.\"\"\"\n",
    "        \n",
    "        # dealias\n",
    "        qhat[self.ksq>4/9*self.kmax**2] = 0.0\n",
    "        psihat[self.ksq>4/9*self.kmax**2] = 0.0\n",
    "        qhat[0,0] = 0.0\n",
    "        psihat[0,0] = 0.0\n",
    "        \n",
    "        psihat_x = psihat*self.kkx*(0.0+1.0j)\n",
    "        psihat_y = psihat*self.kky*(0.0+1.0j)\n",
    "        qhat_x = qhat*self.kkx*(0.0+1.0j)\n",
    "        qhat_y = qhat*self.kky*(0.0+1.0j)\n",
    "        \n",
    "        psi_x = np.fft.irfft2(psihat_x)\n",
    "        psi_y = np.fft.irfft2(psihat_y)\n",
    "        q_x = np.fft.irfft2(qhat_x)\n",
    "        q_y = np.fft.irfft2(qhat_y)\n",
    "        \n",
    "        jac = psi_x*q_y - psi_y*q_x\n",
    "        \n",
    "        jachat = np.fft.rfft2(jac)\n",
    "        return jachat\n",
    "    \n",
    "    def rhs(self, q_reshaped, t):\n",
    "        \"\"\"The time derivative, ready for the integrator.\"\"\"\n",
    "        \n",
    "        qhat = self.unmunge(q_reshaped)\n",
    "        \n",
    "        psihat = self.get_psihat_from_qhat(qhat)\n",
    "        nlterm = self.nlterm(qhat, psihat)\n",
    "        waveterm = self.waveterm(psihat)\n",
    "        dissipation = self.dissipation(qhat)\n",
    "        forcing = self.forcing(t)\n",
    "        \n",
    "        return self.munge(forcing + dissipation - waveterm - nlterm)\n",
    "    \n",
    "    def munge(self, qhat):\n",
    "        \"\"\"format a complex k-space field for odeint\"\"\"\n",
    "        \n",
    "        r = qhat.real\n",
    "        i = qhat.imag\n",
    "        z = np.array([r,i])\n",
    "        return z.reshape(-1)\n",
    "    \n",
    "    def unmunge(self, munged):\n",
    "        \"\"\"Return the 1d real sequence to its 2d complex state\"\"\"\n",
    "        \n",
    "        z = munged.reshape((2,self.nx,int(self.ny/2+1)))\n",
    "        r = z[0]\n",
    "        i = z[1]\n",
    "        return r + (0+1.0j)*i"
   ]
  },
  {
   "cell_type": "code",
   "execution_count": null,
   "metadata": {
    "collapsed": false
   },
   "outputs": [],
   "source": [
    "foo = flow()\n",
    "t = np.linspace(0, 3600*24*7*50, 365)\n",
    "\n",
    "result = odeint(foo.rhs, foo.munge(foo.qhat), t)"
   ]
  },
  {
   "cell_type": "code",
   "execution_count": 12,
   "metadata": {
    "collapsed": false
   },
   "outputs": [
    {
     "data": {
      "image/png": "[encoded data removed]",
      "text/plain": [
       "<matplotlib.figure.Figure at 0x117bd48d0>"
      ]
     },
     "metadata": {},
     "output_type": "display_data"
    }
   ],
   "source": [
    "fig = plt.figure(figsize=(10,10))\n",
    "ax = plt.axes()  \n",
    "plt.xlabel(r'x')\n",
    "plt.ylabel(r'y')\n",
    "\n",
    "totalmax = np.max([np.max(np.abs(np.fft.irfft2(foo.unmunge(frame)))) for frame in result])\n",
    "levels = np.linspace(-totalmax, totalmax, 10)\n",
    "\n",
    "# animation function\n",
    "def animate(i): \n",
    "    z = np.fft.irfft2(foo.unmunge(result[i]))\n",
    "    ax.clear()\n",
    "    \n",
    "    cont = plt.contour(foo.xx, foo.yy, z, levels)\n",
    "    return cont  \n",
    "\n",
    "anim = animation.FuncAnimation(fig, animate, frames=len(t), blit=False)\n",
    "mywriter = animation.FFMpegWriter()\n",
    "\n",
    "anim.save(\"nobeta.mp4\", writer=mywriter, fps=45, dpi=100, bitrate=4000)"
   ]
  },
  {
   "cell_type": "code",
   "execution_count": null,
   "metadata": {
    "collapsed": false
   },
   "outputs": [
    {
     "name": "stderr",
     "output_type": "stream",
     "text": [
      "/Users/cmckay/anaconda/envs/layercode/lib/python3.5/site-packages/numpy/ma/core.py:2724: ComplexWarning: Casting complex values to real discards the imaginary part\n",
      "  _data = np.array(data, dtype=dtype, copy=copy, subok=True, ndmin=ndmin)\n"
     ]
    },
    {
     "data": {
      "image/png": "[encoded data removed]",
      "text/plain": [
       "<matplotlib.figure.Figure at 0x110363a20>"
      ]
     },
     "metadata": {},
     "output_type": "display_data"
    }
   ],
   "source": [
    "fig = plt.figure(figsize=(10,10))\n",
    "ax = plt.axes()  \n",
    "plt.xlabel(r'x')\n",
    "plt.ylabel(r'y')\n",
    "\n",
    "totalmax = np.max([np.max(np.abs(foo.unmunge(frame))) for frame in result])\n",
    "levels = np.linspace(-totalmax, totalmax, 10)\n",
    "\n",
    "# animation function\n",
    "def animate(i): \n",
    "    z = foo.unmunge(result[i])\n",
    "    ax.clear()\n",
    "    \n",
    "    cont = plt.contour(foo.kkx, foo.kky, z, levels)\n",
    "    return cont  \n",
    "\n",
    "anim = animation.FuncAnimation(fig, animate, frames=len(t), blit=False)\n",
    "mywriter = animation.FFMpegWriter()\n",
    "\n",
    "anim.save(\"kspace.mp4\", writer=mywriter, fps=45, dpi=100, bitrate=4000)"
   ]
  },
  {
   "cell_type": "code",
   "execution_count": null,
   "metadata": {
    "collapsed": true
   },
   "outputs": [],
   "source": []
  }
 ],
 "metadata": {
  "kernelspec": {
   "display_name": "Python 3",
   "language": "python",
   "name": "python3"
  },
  "language_info": {
   "codemirror_mode": {
    "name": "ipython",
    "version": 3
   },
   "file_extension": ".py",
   "mimetype": "text/x-python",
   "name": "python",
   "nbconvert_exporter": "python",
   "pygments_lexer": "ipython3",
   "version": "3.5.1"
  }
 },
 "nbformat": 4,
 "nbformat_minor": 0
}
