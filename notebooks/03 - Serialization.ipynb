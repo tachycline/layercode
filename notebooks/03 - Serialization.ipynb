{
 "cells": [
  {
   "cell_type": "markdown",
   "metadata": {},
   "source": [
    "# Serialization\n",
    "\n",
    "The term *serialization* refers to storing results between executions of the code.  The standard way to do this in python is by using the `pickle` module, but there are a number of disadvantantages to this in the distributed scientific environment we're operating in here.\n",
    "\n",
    "We really have four major choices here:\n",
    " - a relational database via `sqlalchemy`\n",
    " - a key-value store like MongoDB\n",
    " - HDF5 (which is a standard way of storing scientific/numerical data\n",
    " - some hybrid combination of the above\n",
    "\n",
    "My current feeling is that I should use SQL for the metadata (for searchability and parallelism) and HDF5 for the actual bulky numerical bits (for portability and performance). Of course, if I'm making any claims about performance, I really ought to run tests to verify my intuition.\n",
    "\n",
    "Let's start with the metadata.\n",
    "\n",
    "## An ORM for the flow object"
   ]
  },
  {
   "cell_type": "code",
   "execution_count": 1,
   "metadata": {
    "collapsed": false
   },
   "outputs": [],
   "source": [
    "from sqlalchemy import Column, Integer, String, Float\n",
    "from sqlalchemy.ext.declarative import declarative_base\n",
    "\n",
    "BASE = declarative_base()\n",
    "\n",
    "class FlowORM(BASE):\n",
    "    \"\"\"The ORM class corresponding to the flow class defined below.\"\"\"\n",
    "    __tablename__ = 'flows'\n",
    "\n",
    "    id = Column(Integer, primary_key=True)\n",
    "    nx = Column(Integer)\n",
    "    ny = Column(Integer)\n",
    "    lx = Column(Float)\n",
    "    ly = Column(Float)\n",
    "    beta = Column(Float)\n",
    "    kappa = Column(Float)\n",
    "    w = Column(Float)\n",
    "    method = Column(String)\n",
    "    dt = Column(Float)\n",
    "    initial_amp = Column(Float)\n",
    "    seed = Column(Integer)\n",
    "    resultsfile = Column(String(50))\n",
    "    \n",
    "    def __repr__(self):\n",
    "        return \"<Flow {}>\".format(self.id)"
   ]
  },
  {
   "cell_type": "code",
   "execution_count": 2,
   "metadata": {
    "collapsed": false
   },
   "outputs": [],
   "source": [
    "from sqlalchemy import create_engine\n",
    "engine = create_engine('sqlite:///:memory:', echo=True)"
   ]
  },
  {
   "cell_type": "code",
   "execution_count": 3,
   "metadata": {
    "collapsed": false
   },
   "outputs": [],
   "source": [
    "import sys\n",
    "sys.path.append('../')\n",
    "from layers.layers import Flow"
   ]
  },
  {
   "cell_type": "code",
   "execution_count": 4,
   "metadata": {
    "collapsed": false
   },
   "outputs": [],
   "source": [
    "foo = Flow()"
   ]
  },
  {
   "cell_type": "code",
   "execution_count": 5,
   "metadata": {
    "collapsed": false
   },
   "outputs": [],
   "source": [
    "bar = foo.serialize()"
   ]
  },
  {
   "cell_type": "code",
   "execution_count": 6,
   "metadata": {
    "collapsed": false
   },
   "outputs": [
    {
     "data": {
      "text/plain": [
       "<Flow None>"
      ]
     },
     "execution_count": 6,
     "metadata": {},
     "output_type": "execute_result"
    }
   ],
   "source": [
    "bar"
   ]
  },
  {
   "cell_type": "code",
   "execution_count": 7,
   "metadata": {
    "collapsed": false
   },
   "outputs": [
    {
     "data": {
      "text/plain": [
       "471913919"
      ]
     },
     "execution_count": 7,
     "metadata": {},
     "output_type": "execute_result"
    }
   ],
   "source": [
    "bar.seed"
   ]
  },
  {
   "cell_type": "code",
   "execution_count": 8,
   "metadata": {
    "collapsed": false
   },
   "outputs": [
    {
     "data": {
      "text/plain": [
       "Table('flows', MetaData(bind=None), Column('id', Integer(), table=<flows>, primary_key=True, nullable=False), Column('nx', Integer(), table=<flows>), Column('ny', Integer(), table=<flows>), Column('lx', Float(), table=<flows>), Column('ly', Float(), table=<flows>), Column('beta', Float(), table=<flows>), Column('kappa', Float(), table=<flows>), Column('w', Float(), table=<flows>), Column('method', String(), table=<flows>), Column('dt', Float(), table=<flows>), Column('initial_amp', Float(), table=<flows>), Column('seed', Integer(), table=<flows>), Column('resultsfile', String(length=50), table=<flows>), schema=None)"
      ]
     },
     "execution_count": 8,
     "metadata": {},
     "output_type": "execute_result"
    }
   ],
   "source": [
    "FlowORM.__table__"
   ]
  },
  {
   "cell_type": "code",
   "execution_count": 9,
   "metadata": {
    "collapsed": false
   },
   "outputs": [
    {
     "name": "stdout",
     "output_type": "stream",
     "text": [
      "2017-03-06 21:42:24,878 INFO sqlalchemy.engine.base.Engine SELECT CAST('test plain returns' AS VARCHAR(60)) AS anon_1\n",
      "2017-03-06 21:42:24,879 INFO sqlalchemy.engine.base.Engine ()\n",
      "2017-03-06 21:42:24,880 INFO sqlalchemy.engine.base.Engine SELECT CAST('test unicode returns' AS VARCHAR(60)) AS anon_1\n",
      "2017-03-06 21:42:24,881 INFO sqlalchemy.engine.base.Engine ()\n",
      "2017-03-06 21:42:24,882 INFO sqlalchemy.engine.base.Engine PRAGMA table_info(\"flows\")\n",
      "2017-03-06 21:42:24,883 INFO sqlalchemy.engine.base.Engine ()\n",
      "2017-03-06 21:42:24,885 INFO sqlalchemy.engine.base.Engine \n",
      "CREATE TABLE flows (\n",
      "\tid INTEGER NOT NULL, \n",
      "\tnx INTEGER, \n",
      "\tny INTEGER, \n",
      "\tlx FLOAT, \n",
      "\tly FLOAT, \n",
      "\tbeta FLOAT, \n",
      "\tkappa FLOAT, \n",
      "\tw FLOAT, \n",
      "\tmethod VARCHAR, \n",
      "\tdt FLOAT, \n",
      "\tinitial_amp FLOAT, \n",
      "\tseed INTEGER, \n",
      "\tresultsfile VARCHAR(50), \n",
      "\tPRIMARY KEY (id)\n",
      ")\n",
      "\n",
      "\n",
      "2017-03-06 21:42:24,886 INFO sqlalchemy.engine.base.Engine ()\n",
      "2017-03-06 21:42:24,887 INFO sqlalchemy.engine.base.Engine COMMIT\n"
     ]
    }
   ],
   "source": [
    "FlowORM.metadata.create_all(engine)"
   ]
  },
  {
   "cell_type": "code",
   "execution_count": 10,
   "metadata": {
    "collapsed": true
   },
   "outputs": [],
   "source": [
    "from sqlalchemy.orm import sessionmaker\n",
    "Session = sessionmaker(bind=engine)\n",
    "session = Session()"
   ]
  },
  {
   "cell_type": "code",
   "execution_count": 11,
   "metadata": {
    "collapsed": false
   },
   "outputs": [],
   "source": [
    "session.add(bar)"
   ]
  },
  {
   "cell_type": "code",
   "execution_count": 12,
   "metadata": {
    "collapsed": false
   },
   "outputs": [
    {
     "name": "stdout",
     "output_type": "stream",
     "text": [
      "2017-03-06 21:42:24,901 INFO sqlalchemy.engine.base.Engine BEGIN (implicit)\n",
      "2017-03-06 21:42:24,904 INFO sqlalchemy.engine.base.Engine INSERT INTO flows (nx, ny, lx, ly, beta, kappa, w, method, dt, initial_amp, seed, resultsfile) VALUES (?, ?, ?, ?, ?, ?, ?, ?, ?, ?, ?, ?)\n",
      "2017-03-06 21:42:24,905 INFO sqlalchemy.engine.base.Engine (64, 64, 1000000.0, 1000000.0, 6e-10, 10.0, 4e-06, 'dopri5', 7200.0, 120000.0, 471913919, None)\n",
      "2017-03-06 21:42:24,906 INFO sqlalchemy.engine.base.Engine COMMIT\n"
     ]
    }
   ],
   "source": [
    "session.commit()"
   ]
  },
  {
   "cell_type": "code",
   "execution_count": 13,
   "metadata": {
    "collapsed": false
   },
   "outputs": [
    {
     "name": "stdout",
     "output_type": "stream",
     "text": [
      "2017-03-06 21:46:31,474 INFO sqlalchemy.engine.base.Engine BEGIN (implicit)\n",
      "2017-03-06 21:46:31,477 INFO sqlalchemy.engine.base.Engine SELECT flows.id AS flows_id, flows.nx AS flows_nx, flows.ny AS flows_ny, flows.lx AS flows_lx, flows.ly AS flows_ly, flows.beta AS flows_beta, flows.kappa AS flows_kappa, flows.w AS flows_w, flows.method AS flows_method, flows.dt AS flows_dt, flows.initial_amp AS flows_initial_amp, flows.seed AS flows_seed, flows.resultsfile AS flows_resultsfile \n",
      "FROM flows \n",
      "WHERE flows.id = ?\n",
      "2017-03-06 21:46:31,478 INFO sqlalchemy.engine.base.Engine (1,)\n"
     ]
    },
    {
     "data": {
      "text/plain": [
       "<Flow 1>"
      ]
     },
     "execution_count": 13,
     "metadata": {},
     "output_type": "execute_result"
    }
   ],
   "source": [
    "bar"
   ]
  },
  {
   "cell_type": "code",
   "execution_count": 14,
   "metadata": {
    "collapsed": true
   },
   "outputs": [],
   "source": [
    "foo.integrate(24*3600)"
   ]
  },
  {
   "cell_type": "code",
   "execution_count": 15,
   "metadata": {
    "collapsed": true
   },
   "outputs": [],
   "source": [
    "import h5py"
   ]
  },
  {
   "cell_type": "code",
   "execution_count": 16,
   "metadata": {
    "collapsed": false
   },
   "outputs": [
    {
     "data": {
      "text/plain": [
       "'flow-4e-06-10.0-471913919.h5'"
      ]
     },
     "execution_count": 16,
     "metadata": {},
     "output_type": "execute_result"
    }
   ],
   "source": [
    "foo.resultsfile"
   ]
  },
  {
   "cell_type": "code",
   "execution_count": 17,
   "metadata": {
    "collapsed": true
   },
   "outputs": [],
   "source": [
    "f = h5py.File(foo.resultsfile, \"w\")"
   ]
  },
  {
   "cell_type": "code",
   "execution_count": 18,
   "metadata": {
    "collapsed": false
   },
   "outputs": [
    {
     "data": {
      "text/plain": [
       "array([[ 0.+0.j, -0.+0.j,  0.+0.j, ..., -0.+0.j,  0.+0.j,  0.+0.j],\n",
       "       [-0.+0.j,  0.+0.j,  0.+0.j, ...,  0.+0.j,  0.+0.j,  0.+0.j],\n",
       "       [ 0.+0.j,  0.+0.j,  0.+0.j, ..., -0.+0.j,  0.+0.j,  0.+0.j],\n",
       "       ..., \n",
       "       [ 0.+0.j,  0.+0.j,  0.+0.j, ...,  0.+0.j, -0.+0.j, -0.+0.j],\n",
       "       [-0.+0.j,  0.+0.j,  0.+0.j, ...,  0.+0.j,  0.+0.j,  0.+0.j],\n",
       "       [ 0.+0.j, -0.+0.j,  0.+0.j, ...,  0.+0.j, -0.+0.j,  0.+0.j]])"
      ]
     },
     "execution_count": 18,
     "metadata": {},
     "output_type": "execute_result"
    }
   ],
   "source": [
    "foo.results[0]"
   ]
  },
  {
   "cell_type": "code",
   "execution_count": 23,
   "metadata": {
    "collapsed": false
   },
   "outputs": [
    {
     "data": {
      "text/plain": [
       "<HDF5 dataset \"qhat\": shape (13, 64, 33), type \"<c16\">"
      ]
     },
     "execution_count": 23,
     "metadata": {},
     "output_type": "execute_result"
    }
   ],
   "source": [
    "f.create_dataset('qhat', data=np.array(foo.results))"
   ]
  },
  {
   "cell_type": "code",
   "execution_count": 20,
   "metadata": {
    "collapsed": true
   },
   "outputs": [],
   "source": [
    "import numpy as np"
   ]
  },
  {
   "cell_type": "code",
   "execution_count": 30,
   "metadata": {
    "collapsed": false
   },
   "outputs": [
    {
     "data": {
      "text/plain": [
       "['qhat']"
      ]
     },
     "execution_count": 30,
     "metadata": {},
     "output_type": "execute_result"
    }
   ],
   "source": [
    "list(f.keys())"
   ]
  },
  {
   "cell_type": "code",
   "execution_count": 32,
   "metadata": {
    "collapsed": false
   },
   "outputs": [
    {
     "data": {
      "text/plain": [
       "33"
      ]
     },
     "execution_count": 32,
     "metadata": {},
     "output_type": "execute_result"
    }
   ],
   "source": [
    "foo.qhat.shape[1]"
   ]
  },
  {
   "cell_type": "code",
   "execution_count": 33,
   "metadata": {
    "collapsed": true
   },
   "outputs": [],
   "source": [
    "f.close()"
   ]
  },
  {
   "cell_type": "code",
   "execution_count": 35,
   "metadata": {
    "collapsed": false
   },
   "outputs": [
    {
     "ename": "RuntimeError",
     "evalue": "Can't retrieve file id (Invalid object id)",
     "output_type": "error",
     "traceback": [
      "\u001b[0;31m---------------------------------------------------------------------------\u001b[0m",
      "\u001b[0;31mRuntimeError\u001b[0m                              Traceback (most recent call last)",
      "\u001b[0;32m<ipython-input-35-870db3d80d62>\u001b[0m in \u001b[0;36m<module>\u001b[0;34m()\u001b[0m\n\u001b[0;32m----> 1\u001b[0;31m \u001b[0mf\u001b[0m\u001b[0;34m.\u001b[0m\u001b[0mfile\u001b[0m\u001b[0;34m\u001b[0m\u001b[0m\n\u001b[0m",
      "\u001b[0;32mh5py/_objects.pyx\u001b[0m in \u001b[0;36mh5py._objects.with_phil.wrapper (/Users/ilan/minonda/conda-bld/work/h5py/_objects.c:2579)\u001b[0;34m()\u001b[0m\n",
      "\u001b[0;32mh5py/_objects.pyx\u001b[0m in \u001b[0;36mh5py._objects.with_phil.wrapper (/Users/ilan/minonda/conda-bld/work/h5py/_objects.c:2538)\u001b[0;34m()\u001b[0m\n",
      "\u001b[0;32m/Users/cmckay/anaconda/envs/layercode/lib/python3.5/site-packages/h5py/_hl/base.py\u001b[0m in \u001b[0;36mfile\u001b[0;34m(self)\u001b[0m\n\u001b[1;32m    208\u001b[0m         \u001b[0;34m\"\"\" Return a File instance associated with this object \"\"\"\u001b[0m\u001b[0;34m\u001b[0m\u001b[0m\n\u001b[1;32m    209\u001b[0m         \u001b[0;32mfrom\u001b[0m \u001b[0;34m.\u001b[0m \u001b[0;32mimport\u001b[0m \u001b[0mfiles\u001b[0m\u001b[0;34m\u001b[0m\u001b[0m\n\u001b[0;32m--> 210\u001b[0;31m         \u001b[0;32mreturn\u001b[0m \u001b[0mfiles\u001b[0m\u001b[0;34m.\u001b[0m\u001b[0mFile\u001b[0m\u001b[0;34m(\u001b[0m\u001b[0mself\u001b[0m\u001b[0;34m.\u001b[0m\u001b[0mid\u001b[0m\u001b[0;34m)\u001b[0m\u001b[0;34m\u001b[0m\u001b[0m\n\u001b[0m\u001b[1;32m    211\u001b[0m \u001b[0;34m\u001b[0m\u001b[0m\n\u001b[1;32m    212\u001b[0m     \u001b[0;34m@\u001b[0m\u001b[0mproperty\u001b[0m\u001b[0;34m\u001b[0m\u001b[0m\n",
      "\u001b[0;32m/Users/cmckay/anaconda/envs/layercode/lib/python3.5/site-packages/h5py/_hl/files.py\u001b[0m in \u001b[0;36m__init__\u001b[0;34m(self, name, mode, driver, libver, userblock_size, swmr, **kwds)\u001b[0m\n\u001b[1;32m    247\u001b[0m         \u001b[0;32mwith\u001b[0m \u001b[0mphil\u001b[0m\u001b[0;34m:\u001b[0m\u001b[0;34m\u001b[0m\u001b[0m\n\u001b[1;32m    248\u001b[0m             \u001b[0;32mif\u001b[0m \u001b[0misinstance\u001b[0m\u001b[0;34m(\u001b[0m\u001b[0mname\u001b[0m\u001b[0;34m,\u001b[0m \u001b[0m_objects\u001b[0m\u001b[0;34m.\u001b[0m\u001b[0mObjectID\u001b[0m\u001b[0;34m)\u001b[0m\u001b[0;34m:\u001b[0m\u001b[0;34m\u001b[0m\u001b[0m\n\u001b[0;32m--> 249\u001b[0;31m                 \u001b[0mfid\u001b[0m \u001b[0;34m=\u001b[0m \u001b[0mh5i\u001b[0m\u001b[0;34m.\u001b[0m\u001b[0mget_file_id\u001b[0m\u001b[0;34m(\u001b[0m\u001b[0mname\u001b[0m\u001b[0;34m)\u001b[0m\u001b[0;34m\u001b[0m\u001b[0m\n\u001b[0m\u001b[1;32m    250\u001b[0m             \u001b[0;32melse\u001b[0m\u001b[0;34m:\u001b[0m\u001b[0;34m\u001b[0m\u001b[0m\n\u001b[1;32m    251\u001b[0m                 \u001b[0;32mtry\u001b[0m\u001b[0;34m:\u001b[0m\u001b[0;34m\u001b[0m\u001b[0m\n",
      "\u001b[0;32mh5py/_objects.pyx\u001b[0m in \u001b[0;36mh5py._objects.with_phil.wrapper (/Users/ilan/minonda/conda-bld/work/h5py/_objects.c:2579)\u001b[0;34m()\u001b[0m\n",
      "\u001b[0;32mh5py/_objects.pyx\u001b[0m in \u001b[0;36mh5py._objects.with_phil.wrapper (/Users/ilan/minonda/conda-bld/work/h5py/_objects.c:2538)\u001b[0;34m()\u001b[0m\n",
      "\u001b[0;32mh5py/h5i.pyx\u001b[0m in \u001b[0;36mh5py.h5i.get_file_id (/Users/ilan/minonda/conda-bld/work/h5py/h5i.c:1866)\u001b[0;34m()\u001b[0m\n",
      "\u001b[0;31mRuntimeError\u001b[0m: Can't retrieve file id (Invalid object id)"
     ]
    }
   ],
   "source": [
    "f.file"
   ]
  },
  {
   "cell_type": "code",
   "execution_count": null,
   "metadata": {
    "collapsed": true
   },
   "outputs": [],
   "source": []
  }
 ],
 "metadata": {
  "kernelspec": {
   "display_name": "Python 3",
   "language": "python",
   "name": "python3"
  },
  "language_info": {
   "codemirror_mode": {
    "name": "ipython",
    "version": 3
   },
   "file_extension": ".py",
   "mimetype": "text/x-python",
   "name": "python",
   "nbconvert_exporter": "python",
   "pygments_lexer": "ipython3",
   "version": "3.5.3"
  }
 },
 "nbformat": 4,
 "nbformat_minor": 0
}
